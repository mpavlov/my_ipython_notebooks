{
 "metadata": {
  "name": "",
  "signature": "sha256:23697dfe1fbc198f3f17af51522d12a70aba83cc93b99a4cef6beeb9f291d523"
 },
 "nbformat": 3,
 "nbformat_minor": 0,
 "worksheets": [
  {
   "cells": [
    {
     "cell_type": "markdown",
     "metadata": {},
     "source": [
      "Get the JCPD data into a dataframe."
     ]
    },
    {
     "cell_type": "code",
     "collapsed": false,
     "input": [
      "import json, urllib, pandas\n",
      "url = 'https://data.openjerseycity.org/api/action/datastore_search?resource_id=6cb5d0a3-b561-4d99-b4f4-dbc8f9ed9d89'\n",
      "json_response = urllib.urlopen(url).read()\n",
      "call_data_json = json.dumps(json.loads(json_response)[\"result\"][\"records\"])\n",
      "call_data = pandas.io.json.read_json(call_data_json)"
     ],
     "language": "python",
     "metadata": {},
     "outputs": [],
     "prompt_number": 17
    },
    {
     "cell_type": "markdown",
     "metadata": {},
     "source": [
      "Print the 5 most frequent call codes."
     ]
    },
    {
     "cell_type": "code",
     "collapsed": false,
     "input": [
      "group_by_cols = (\"CALLCODE\", \"Call Code Description\")\n",
      "grouped = call_data.groupby(group_by_cols, sort=False)\n",
      "most_frequent_call_codes = grouped.aggregate({group_by_cols[0]: len}).sort(group_by_cols[0], ascending=0)\n",
      "print most_frequent_call_codes[:5]"
     ],
     "language": "python",
     "metadata": {},
     "outputs": [
      {
       "output_type": "stream",
       "stream": "stdout",
       "text": [
        "                                      CALLCODE\n",
        "CALLCODE Call Code Description                \n",
        "F16.00   SUSPICIOUS PERSON/CONDITION         8\n",
        "E13.00   LOUD MUSIC                          5\n",
        "B23.00   OTHER INTER/CONFLICT                5\n",
        "C24.00   THEFT OTHER PROP                    4\n",
        "E14.00   STREET FIGHT ( NO WEAPONS )         4\n"
       ]
      }
     ],
     "prompt_number": 85
    },
    {
     "cell_type": "code",
     "collapsed": false,
     "input": [],
     "language": "python",
     "metadata": {},
     "outputs": []
    }
   ],
   "metadata": {}
  }
 ]
}